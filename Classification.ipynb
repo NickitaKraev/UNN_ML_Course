{
 "cells": [
  {
   "cell_type": "markdown",
   "id": "609c4ce5",
   "metadata": {},
   "source": [
    "# Credit Score Classification\n",
    "## Постановка задачи\n",
    "Вы работаете специалистом по обработке данных в глобальной финансовой компании. На протяжении многих лет компания собирала основные банковские реквизиты и собрала много информации, связанной с кредитом. Руководство хочет создать интеллектуальную систему для разделения людей по группам кредитных баллов, чтобы сократить ручные усилия.\n",
    "## Задача\n",
    "Учитывая информацию, связанную с кредитом человека, создайте модель машинного обучения, которая может классифицировать кредитный рейтинг."
   ]
  },
  {
   "cell_type": "code",
   "execution_count": 247,
   "id": "be5da8ef",
   "metadata": {},
   "outputs": [],
   "source": [
    "import numpy as np\n",
    "import matplotlib.pyplot as plt\n",
    "import pandas as pd\n",
    "%matplotlib inline\n",
    "import seaborn as sns \n",
    "from sklearn.model_selection import train_test_split\n",
    "from sklearn.preprocessing import StandardScaler\n",
    "from sklearn.impute import SimpleImputer\n",
    "from sklearn.model_selection import GridSearchCV\n",
    "import re \n",
    "from sklearn.ensemble import RandomForestClassifier\n",
    "from sklearn.neighbors import KNeighborsClassifier\n",
    "from sklearn.metrics import classification_report \n",
    "import joblib"
   ]
  },
  {
   "cell_type": "markdown",
   "id": "dcf4ff1d",
   "metadata": {},
   "source": [
    "## Читаем данные"
   ]
  },
  {
   "cell_type": "code",
   "execution_count": 196,
   "id": "dd9d10cf",
   "metadata": {},
   "outputs": [],
   "source": [
    "df = pd.read_csv('./train.csv', low_memory=False)"
   ]
  },
  {
   "cell_type": "code",
   "execution_count": 26,
   "id": "1d974389",
   "metadata": {},
   "outputs": [
    {
     "data": {
      "text/html": [
       "<div>\n",
       "<style scoped>\n",
       "    .dataframe tbody tr th:only-of-type {\n",
       "        vertical-align: middle;\n",
       "    }\n",
       "\n",
       "    .dataframe tbody tr th {\n",
       "        vertical-align: top;\n",
       "    }\n",
       "\n",
       "    .dataframe thead th {\n",
       "        text-align: right;\n",
       "    }\n",
       "</style>\n",
       "<table border=\"1\" class=\"dataframe\">\n",
       "  <thead>\n",
       "    <tr style=\"text-align: right;\">\n",
       "      <th></th>\n",
       "      <th>ID</th>\n",
       "      <th>Customer_ID</th>\n",
       "      <th>Month</th>\n",
       "      <th>Name</th>\n",
       "      <th>Age</th>\n",
       "      <th>SSN</th>\n",
       "      <th>Occupation</th>\n",
       "      <th>Annual_Income</th>\n",
       "      <th>Monthly_Inhand_Salary</th>\n",
       "      <th>Num_Bank_Accounts</th>\n",
       "      <th>...</th>\n",
       "      <th>Credit_Mix</th>\n",
       "      <th>Outstanding_Debt</th>\n",
       "      <th>Credit_Utilization_Ratio</th>\n",
       "      <th>Credit_History_Age</th>\n",
       "      <th>Payment_of_Min_Amount</th>\n",
       "      <th>Total_EMI_per_month</th>\n",
       "      <th>Amount_invested_monthly</th>\n",
       "      <th>Payment_Behaviour</th>\n",
       "      <th>Monthly_Balance</th>\n",
       "      <th>Credit_Score</th>\n",
       "    </tr>\n",
       "  </thead>\n",
       "  <tbody>\n",
       "    <tr>\n",
       "      <th>80038</th>\n",
       "      <td>0x1eaf8</td>\n",
       "      <td>CUS_0x4032</td>\n",
       "      <td>July</td>\n",
       "      <td>Suzanne Barlynk</td>\n",
       "      <td>33</td>\n",
       "      <td>836-72-3680</td>\n",
       "      <td>Doctor</td>\n",
       "      <td>15126.8</td>\n",
       "      <td>1019.566667</td>\n",
       "      <td>6</td>\n",
       "      <td>...</td>\n",
       "      <td>Bad</td>\n",
       "      <td>1424.74</td>\n",
       "      <td>31.472441</td>\n",
       "      <td>18 Years and 5 Months</td>\n",
       "      <td>Yes</td>\n",
       "      <td>17.724191</td>\n",
       "      <td>38.55545735569958</td>\n",
       "      <td>!@9#%8</td>\n",
       "      <td>315.67701862931386</td>\n",
       "      <td>Standard</td>\n",
       "    </tr>\n",
       "    <tr>\n",
       "      <th>22895</th>\n",
       "      <td>0x9c25</td>\n",
       "      <td>CUS_0xd0c</td>\n",
       "      <td>August</td>\n",
       "      <td>Kiharap</td>\n",
       "      <td>22</td>\n",
       "      <td>191-87-1257</td>\n",
       "      <td>Musician</td>\n",
       "      <td>47953.86</td>\n",
       "      <td>3706.155000</td>\n",
       "      <td>7</td>\n",
       "      <td>...</td>\n",
       "      <td>Standard</td>\n",
       "      <td>1601.8</td>\n",
       "      <td>36.881126</td>\n",
       "      <td>7 Years and 6 Months</td>\n",
       "      <td>Yes</td>\n",
       "      <td>80.923860</td>\n",
       "      <td>103.78728258565269</td>\n",
       "      <td>High_spent_Medium_value_payments</td>\n",
       "      <td>435.9043571460279</td>\n",
       "      <td>Poor</td>\n",
       "    </tr>\n",
       "    <tr>\n",
       "      <th>75164</th>\n",
       "      <td>0x1ce6a</td>\n",
       "      <td>CUS_0x3463</td>\n",
       "      <td>May</td>\n",
       "      <td>NaN</td>\n",
       "      <td>27</td>\n",
       "      <td>782-87-8295</td>\n",
       "      <td>Scientist</td>\n",
       "      <td>59110.84</td>\n",
       "      <td>5210.903333</td>\n",
       "      <td>4</td>\n",
       "      <td>...</td>\n",
       "      <td>_</td>\n",
       "      <td>2685.23</td>\n",
       "      <td>31.578757</td>\n",
       "      <td>12 Years and 9 Months</td>\n",
       "      <td>Yes</td>\n",
       "      <td>106.662454</td>\n",
       "      <td>136.3479943187487</td>\n",
       "      <td>Low_spent_Large_value_payments</td>\n",
       "      <td>548.0798848001789</td>\n",
       "      <td>Poor</td>\n",
       "    </tr>\n",
       "    <tr>\n",
       "      <th>49095</th>\n",
       "      <td>0x135a9</td>\n",
       "      <td>CUS_0x845d</td>\n",
       "      <td>August</td>\n",
       "      <td>Aubinx</td>\n",
       "      <td>46</td>\n",
       "      <td>694-27-8258</td>\n",
       "      <td>Accountant</td>\n",
       "      <td>37731.42</td>\n",
       "      <td>3206.285000</td>\n",
       "      <td>1</td>\n",
       "      <td>...</td>\n",
       "      <td>Good</td>\n",
       "      <td>1204.17</td>\n",
       "      <td>32.860477</td>\n",
       "      <td>20 Years and 6 Months</td>\n",
       "      <td>No</td>\n",
       "      <td>41584.000000</td>\n",
       "      <td>129.6899875748009</td>\n",
       "      <td>High_spent_Medium_value_payments</td>\n",
       "      <td>440.9385124251991</td>\n",
       "      <td>Poor</td>\n",
       "    </tr>\n",
       "    <tr>\n",
       "      <th>29013</th>\n",
       "      <td>0xbfff</td>\n",
       "      <td>CUS_0x59b6</td>\n",
       "      <td>June</td>\n",
       "      <td>Scuffhamk</td>\n",
       "      <td>53</td>\n",
       "      <td>315-03-3600</td>\n",
       "      <td>Writer</td>\n",
       "      <td>111090.06</td>\n",
       "      <td>NaN</td>\n",
       "      <td>0</td>\n",
       "      <td>...</td>\n",
       "      <td>Good</td>\n",
       "      <td>575.32</td>\n",
       "      <td>38.493104</td>\n",
       "      <td>27 Years and 10 Months</td>\n",
       "      <td>NM</td>\n",
       "      <td>149.079658</td>\n",
       "      <td>446.0375859689788</td>\n",
       "      <td>High_spent_Small_value_payments</td>\n",
       "      <td>584.1332557012743</td>\n",
       "      <td>Good</td>\n",
       "    </tr>\n",
       "  </tbody>\n",
       "</table>\n",
       "<p>5 rows × 28 columns</p>\n",
       "</div>"
      ],
      "text/plain": [
       "            ID Customer_ID   Month             Name Age          SSN  \\\n",
       "80038  0x1eaf8  CUS_0x4032    July  Suzanne Barlynk  33  836-72-3680   \n",
       "22895   0x9c25   CUS_0xd0c  August          Kiharap  22  191-87-1257   \n",
       "75164  0x1ce6a  CUS_0x3463     May              NaN  27  782-87-8295   \n",
       "49095  0x135a9  CUS_0x845d  August           Aubinx  46  694-27-8258   \n",
       "29013   0xbfff  CUS_0x59b6    June        Scuffhamk  53  315-03-3600   \n",
       "\n",
       "       Occupation Annual_Income  Monthly_Inhand_Salary  Num_Bank_Accounts  \\\n",
       "80038      Doctor       15126.8            1019.566667                  6   \n",
       "22895    Musician      47953.86            3706.155000                  7   \n",
       "75164   Scientist      59110.84            5210.903333                  4   \n",
       "49095  Accountant      37731.42            3206.285000                  1   \n",
       "29013      Writer     111090.06                    NaN                  0   \n",
       "\n",
       "       ...  Credit_Mix  Outstanding_Debt Credit_Utilization_Ratio  \\\n",
       "80038  ...         Bad           1424.74                31.472441   \n",
       "22895  ...    Standard            1601.8                36.881126   \n",
       "75164  ...           _           2685.23                31.578757   \n",
       "49095  ...        Good           1204.17                32.860477   \n",
       "29013  ...        Good            575.32                38.493104   \n",
       "\n",
       "           Credit_History_Age  Payment_of_Min_Amount Total_EMI_per_month  \\\n",
       "80038   18 Years and 5 Months                    Yes           17.724191   \n",
       "22895    7 Years and 6 Months                    Yes           80.923860   \n",
       "75164   12 Years and 9 Months                    Yes          106.662454   \n",
       "49095   20 Years and 6 Months                     No        41584.000000   \n",
       "29013  27 Years and 10 Months                     NM          149.079658   \n",
       "\n",
       "      Amount_invested_monthly                 Payment_Behaviour  \\\n",
       "80038       38.55545735569958                            !@9#%8   \n",
       "22895      103.78728258565269  High_spent_Medium_value_payments   \n",
       "75164       136.3479943187487    Low_spent_Large_value_payments   \n",
       "49095       129.6899875748009  High_spent_Medium_value_payments   \n",
       "29013       446.0375859689788   High_spent_Small_value_payments   \n",
       "\n",
       "          Monthly_Balance Credit_Score  \n",
       "80038  315.67701862931386     Standard  \n",
       "22895   435.9043571460279         Poor  \n",
       "75164   548.0798848001789         Poor  \n",
       "49095   440.9385124251991         Poor  \n",
       "29013   584.1332557012743         Good  \n",
       "\n",
       "[5 rows x 28 columns]"
      ]
     },
     "execution_count": 26,
     "metadata": {},
     "output_type": "execute_result"
    }
   ],
   "source": [
    "df.sample(5)"
   ]
  },
  {
   "cell_type": "code",
   "execution_count": 27,
   "id": "464d6c9f",
   "metadata": {},
   "outputs": [
    {
     "data": {
      "text/html": [
       "<div>\n",
       "<style scoped>\n",
       "    .dataframe tbody tr th:only-of-type {\n",
       "        vertical-align: middle;\n",
       "    }\n",
       "\n",
       "    .dataframe tbody tr th {\n",
       "        vertical-align: top;\n",
       "    }\n",
       "\n",
       "    .dataframe thead th {\n",
       "        text-align: right;\n",
       "    }\n",
       "</style>\n",
       "<table border=\"1\" class=\"dataframe\">\n",
       "  <thead>\n",
       "    <tr style=\"text-align: right;\">\n",
       "      <th></th>\n",
       "      <th>ID</th>\n",
       "      <th>Customer_ID</th>\n",
       "      <th>Month</th>\n",
       "      <th>Name</th>\n",
       "      <th>Age</th>\n",
       "      <th>SSN</th>\n",
       "      <th>Occupation</th>\n",
       "      <th>Annual_Income</th>\n",
       "      <th>Monthly_Inhand_Salary</th>\n",
       "      <th>Num_Bank_Accounts</th>\n",
       "      <th>...</th>\n",
       "      <th>Credit_Mix</th>\n",
       "      <th>Outstanding_Debt</th>\n",
       "      <th>Credit_Utilization_Ratio</th>\n",
       "      <th>Credit_History_Age</th>\n",
       "      <th>Payment_of_Min_Amount</th>\n",
       "      <th>Total_EMI_per_month</th>\n",
       "      <th>Amount_invested_monthly</th>\n",
       "      <th>Payment_Behaviour</th>\n",
       "      <th>Monthly_Balance</th>\n",
       "      <th>Credit_Score</th>\n",
       "    </tr>\n",
       "  </thead>\n",
       "  <tbody>\n",
       "    <tr>\n",
       "      <th>0</th>\n",
       "      <td>0x1602</td>\n",
       "      <td>CUS_0xd40</td>\n",
       "      <td>January</td>\n",
       "      <td>Aaron Maashoh</td>\n",
       "      <td>23</td>\n",
       "      <td>821-00-0265</td>\n",
       "      <td>Scientist</td>\n",
       "      <td>19114.12</td>\n",
       "      <td>1824.843333</td>\n",
       "      <td>3</td>\n",
       "      <td>...</td>\n",
       "      <td>_</td>\n",
       "      <td>809.98</td>\n",
       "      <td>26.822620</td>\n",
       "      <td>22 Years and 1 Months</td>\n",
       "      <td>No</td>\n",
       "      <td>49.574949</td>\n",
       "      <td>80.41529543900253</td>\n",
       "      <td>High_spent_Small_value_payments</td>\n",
       "      <td>312.49408867943663</td>\n",
       "      <td>Good</td>\n",
       "    </tr>\n",
       "    <tr>\n",
       "      <th>1</th>\n",
       "      <td>0x1603</td>\n",
       "      <td>CUS_0xd40</td>\n",
       "      <td>February</td>\n",
       "      <td>Aaron Maashoh</td>\n",
       "      <td>23</td>\n",
       "      <td>821-00-0265</td>\n",
       "      <td>Scientist</td>\n",
       "      <td>19114.12</td>\n",
       "      <td>NaN</td>\n",
       "      <td>3</td>\n",
       "      <td>...</td>\n",
       "      <td>Good</td>\n",
       "      <td>809.98</td>\n",
       "      <td>31.944960</td>\n",
       "      <td>NaN</td>\n",
       "      <td>No</td>\n",
       "      <td>49.574949</td>\n",
       "      <td>118.28022162236736</td>\n",
       "      <td>Low_spent_Large_value_payments</td>\n",
       "      <td>284.62916249607184</td>\n",
       "      <td>Good</td>\n",
       "    </tr>\n",
       "    <tr>\n",
       "      <th>2</th>\n",
       "      <td>0x1604</td>\n",
       "      <td>CUS_0xd40</td>\n",
       "      <td>March</td>\n",
       "      <td>Aaron Maashoh</td>\n",
       "      <td>-500</td>\n",
       "      <td>821-00-0265</td>\n",
       "      <td>Scientist</td>\n",
       "      <td>19114.12</td>\n",
       "      <td>NaN</td>\n",
       "      <td>3</td>\n",
       "      <td>...</td>\n",
       "      <td>Good</td>\n",
       "      <td>809.98</td>\n",
       "      <td>28.609352</td>\n",
       "      <td>22 Years and 3 Months</td>\n",
       "      <td>No</td>\n",
       "      <td>49.574949</td>\n",
       "      <td>81.699521264648</td>\n",
       "      <td>Low_spent_Medium_value_payments</td>\n",
       "      <td>331.2098628537912</td>\n",
       "      <td>Good</td>\n",
       "    </tr>\n",
       "    <tr>\n",
       "      <th>3</th>\n",
       "      <td>0x1605</td>\n",
       "      <td>CUS_0xd40</td>\n",
       "      <td>April</td>\n",
       "      <td>Aaron Maashoh</td>\n",
       "      <td>23</td>\n",
       "      <td>821-00-0265</td>\n",
       "      <td>Scientist</td>\n",
       "      <td>19114.12</td>\n",
       "      <td>NaN</td>\n",
       "      <td>3</td>\n",
       "      <td>...</td>\n",
       "      <td>Good</td>\n",
       "      <td>809.98</td>\n",
       "      <td>31.377862</td>\n",
       "      <td>22 Years and 4 Months</td>\n",
       "      <td>No</td>\n",
       "      <td>49.574949</td>\n",
       "      <td>199.4580743910713</td>\n",
       "      <td>Low_spent_Small_value_payments</td>\n",
       "      <td>223.45130972736786</td>\n",
       "      <td>Good</td>\n",
       "    </tr>\n",
       "    <tr>\n",
       "      <th>4</th>\n",
       "      <td>0x1606</td>\n",
       "      <td>CUS_0xd40</td>\n",
       "      <td>May</td>\n",
       "      <td>Aaron Maashoh</td>\n",
       "      <td>23</td>\n",
       "      <td>821-00-0265</td>\n",
       "      <td>Scientist</td>\n",
       "      <td>19114.12</td>\n",
       "      <td>1824.843333</td>\n",
       "      <td>3</td>\n",
       "      <td>...</td>\n",
       "      <td>Good</td>\n",
       "      <td>809.98</td>\n",
       "      <td>24.797347</td>\n",
       "      <td>22 Years and 5 Months</td>\n",
       "      <td>No</td>\n",
       "      <td>49.574949</td>\n",
       "      <td>41.420153086217326</td>\n",
       "      <td>High_spent_Medium_value_payments</td>\n",
       "      <td>341.48923103222177</td>\n",
       "      <td>Good</td>\n",
       "    </tr>\n",
       "  </tbody>\n",
       "</table>\n",
       "<p>5 rows × 28 columns</p>\n",
       "</div>"
      ],
      "text/plain": [
       "       ID Customer_ID     Month           Name   Age          SSN Occupation  \\\n",
       "0  0x1602   CUS_0xd40   January  Aaron Maashoh    23  821-00-0265  Scientist   \n",
       "1  0x1603   CUS_0xd40  February  Aaron Maashoh    23  821-00-0265  Scientist   \n",
       "2  0x1604   CUS_0xd40     March  Aaron Maashoh  -500  821-00-0265  Scientist   \n",
       "3  0x1605   CUS_0xd40     April  Aaron Maashoh    23  821-00-0265  Scientist   \n",
       "4  0x1606   CUS_0xd40       May  Aaron Maashoh    23  821-00-0265  Scientist   \n",
       "\n",
       "  Annual_Income  Monthly_Inhand_Salary  Num_Bank_Accounts  ...  Credit_Mix  \\\n",
       "0      19114.12            1824.843333                  3  ...           _   \n",
       "1      19114.12                    NaN                  3  ...        Good   \n",
       "2      19114.12                    NaN                  3  ...        Good   \n",
       "3      19114.12                    NaN                  3  ...        Good   \n",
       "4      19114.12            1824.843333                  3  ...        Good   \n",
       "\n",
       "   Outstanding_Debt Credit_Utilization_Ratio     Credit_History_Age  \\\n",
       "0            809.98                26.822620  22 Years and 1 Months   \n",
       "1            809.98                31.944960                    NaN   \n",
       "2            809.98                28.609352  22 Years and 3 Months   \n",
       "3            809.98                31.377862  22 Years and 4 Months   \n",
       "4            809.98                24.797347  22 Years and 5 Months   \n",
       "\n",
       "   Payment_of_Min_Amount Total_EMI_per_month Amount_invested_monthly  \\\n",
       "0                     No           49.574949       80.41529543900253   \n",
       "1                     No           49.574949      118.28022162236736   \n",
       "2                     No           49.574949         81.699521264648   \n",
       "3                     No           49.574949       199.4580743910713   \n",
       "4                     No           49.574949      41.420153086217326   \n",
       "\n",
       "                  Payment_Behaviour     Monthly_Balance Credit_Score  \n",
       "0   High_spent_Small_value_payments  312.49408867943663         Good  \n",
       "1    Low_spent_Large_value_payments  284.62916249607184         Good  \n",
       "2   Low_spent_Medium_value_payments   331.2098628537912         Good  \n",
       "3    Low_spent_Small_value_payments  223.45130972736786         Good  \n",
       "4  High_spent_Medium_value_payments  341.48923103222177         Good  \n",
       "\n",
       "[5 rows x 28 columns]"
      ]
     },
     "execution_count": 27,
     "metadata": {},
     "output_type": "execute_result"
    }
   ],
   "source": [
    "df.head(5)"
   ]
  },
  {
   "cell_type": "markdown",
   "id": "9e291df0",
   "metadata": {},
   "source": [
    "## Описание датасета\n",
    "### Колонки и их описание\n",
    "**ID** - представляет уникальную идентификацию записи <br>\n",
    "**Customer_ID** - представляет собой уникальную идентификацию человека <br>\n",
    "**Month** - представляет месяц года <br>\n",
    "**Name** - представляет имя человека <br>\n",
    "**Age** - представляет возраст человека <br>\n",
    "**SSN** - представляет номер социального страхования человека <br>\n",
    "**Occupation** - представляет род занятий человека <br>\n",
    "**Annual_Income** - представляет собой годовой доход лица <br>\n",
    "**Monthly_Inhand_Salary** - представляет собой месячную базовую заработную плату человека <br>\n",
    "**Num_Bank_Accounts** - представляет количество банковских счетов, которыми владеет человек <br>\n",
    "**Num_Credit_Card** - представляет количество других кредитных карт, имеющихся у человека <br>\n",
    "**Interest_Rate** - представляет собой процентную ставку по кредитной карте <br>\n",
    "**Num_of_Loan** - представляет собой количество кредитов, взятых в банке <br>\n",
    "**Type_of_Loan** - представляет виды займов, взятых лицом <br>\n",
    "**Delay_from_due_date** - представляет среднее количество дней задержки с даты платежа <br>\n",
    "**Num_of_Delayed_Payment** - представляет среднее количество платежей, задержанных лицом <br>\n",
    "**Changed_Credit_Limit** - представляет процентное изменение лимита кредитной карты <br>\n",
    "**Num_Credit_Inquiries** - представляет количество запросов по кредитным картам <br>\n",
    "**Credit_Mix** - представляет собой классификацию сочетания кредитов <br>\n",
    "**Outstanding_Debt** - представляет собой оставшийся долг, подлежащий выплате (в долларах США) <br>\n",
    "**Credit_Utilization_Ratio** - представляет собой коэффициент использования кредитной карты <br>\n",
    "**Credit_History_Age** - представляет собой возраст кредитной истории лица <br>\n",
    "**Payment_of_Min_Amount** - показывает, была ли выплачена лицом только минимальная сумма <br>\n",
    "**Total_EMI_per_month** - представляет собой ежемесячные платежи EMI (в долларах США) <br>\n",
    "**Amount_invested_monthly** - представляет собой ежемесячную сумму, инвестированную клиентом (в долларах США) <br>\n",
    "**Payment_Behaviour** - представляет платежное поведение клиента (в долларах США) <br>\n",
    "**Monthly_Balance** - представляет собой ежемесячную сумму баланса клиента (в долларах США) <br>\n",
    "**Credit_Score** - представляет собой скобку кредитного рейтинга (Плохой, стандартный, Хороший)"
   ]
  },
  {
   "cell_type": "code",
   "execution_count": 28,
   "id": "50b4135a",
   "metadata": {},
   "outputs": [
    {
     "data": {
      "text/html": [
       "<div>\n",
       "<style scoped>\n",
       "    .dataframe tbody tr th:only-of-type {\n",
       "        vertical-align: middle;\n",
       "    }\n",
       "\n",
       "    .dataframe tbody tr th {\n",
       "        vertical-align: top;\n",
       "    }\n",
       "\n",
       "    .dataframe thead th {\n",
       "        text-align: right;\n",
       "    }\n",
       "</style>\n",
       "<table border=\"1\" class=\"dataframe\">\n",
       "  <thead>\n",
       "    <tr style=\"text-align: right;\">\n",
       "      <th></th>\n",
       "      <th>Monthly_Inhand_Salary</th>\n",
       "      <th>Num_Bank_Accounts</th>\n",
       "      <th>Num_Credit_Card</th>\n",
       "      <th>Interest_Rate</th>\n",
       "      <th>Delay_from_due_date</th>\n",
       "      <th>Num_Credit_Inquiries</th>\n",
       "      <th>Credit_Utilization_Ratio</th>\n",
       "      <th>Total_EMI_per_month</th>\n",
       "    </tr>\n",
       "  </thead>\n",
       "  <tbody>\n",
       "    <tr>\n",
       "      <th>count</th>\n",
       "      <td>84998.000000</td>\n",
       "      <td>100000.000000</td>\n",
       "      <td>100000.00000</td>\n",
       "      <td>100000.000000</td>\n",
       "      <td>100000.000000</td>\n",
       "      <td>98035.000000</td>\n",
       "      <td>100000.000000</td>\n",
       "      <td>100000.000000</td>\n",
       "    </tr>\n",
       "    <tr>\n",
       "      <th>mean</th>\n",
       "      <td>4194.170850</td>\n",
       "      <td>17.091280</td>\n",
       "      <td>22.47443</td>\n",
       "      <td>72.466040</td>\n",
       "      <td>21.068780</td>\n",
       "      <td>27.754251</td>\n",
       "      <td>32.285173</td>\n",
       "      <td>1403.118217</td>\n",
       "    </tr>\n",
       "    <tr>\n",
       "      <th>std</th>\n",
       "      <td>3183.686167</td>\n",
       "      <td>117.404834</td>\n",
       "      <td>129.05741</td>\n",
       "      <td>466.422621</td>\n",
       "      <td>14.860104</td>\n",
       "      <td>193.177339</td>\n",
       "      <td>5.116875</td>\n",
       "      <td>8306.041270</td>\n",
       "    </tr>\n",
       "    <tr>\n",
       "      <th>min</th>\n",
       "      <td>303.645417</td>\n",
       "      <td>-1.000000</td>\n",
       "      <td>0.00000</td>\n",
       "      <td>1.000000</td>\n",
       "      <td>-5.000000</td>\n",
       "      <td>0.000000</td>\n",
       "      <td>20.000000</td>\n",
       "      <td>0.000000</td>\n",
       "    </tr>\n",
       "    <tr>\n",
       "      <th>25%</th>\n",
       "      <td>1625.568229</td>\n",
       "      <td>3.000000</td>\n",
       "      <td>4.00000</td>\n",
       "      <td>8.000000</td>\n",
       "      <td>10.000000</td>\n",
       "      <td>3.000000</td>\n",
       "      <td>28.052567</td>\n",
       "      <td>30.306660</td>\n",
       "    </tr>\n",
       "    <tr>\n",
       "      <th>50%</th>\n",
       "      <td>3093.745000</td>\n",
       "      <td>6.000000</td>\n",
       "      <td>5.00000</td>\n",
       "      <td>13.000000</td>\n",
       "      <td>18.000000</td>\n",
       "      <td>6.000000</td>\n",
       "      <td>32.305784</td>\n",
       "      <td>69.249473</td>\n",
       "    </tr>\n",
       "    <tr>\n",
       "      <th>75%</th>\n",
       "      <td>5957.448333</td>\n",
       "      <td>7.000000</td>\n",
       "      <td>7.00000</td>\n",
       "      <td>20.000000</td>\n",
       "      <td>28.000000</td>\n",
       "      <td>9.000000</td>\n",
       "      <td>36.496663</td>\n",
       "      <td>161.224249</td>\n",
       "    </tr>\n",
       "    <tr>\n",
       "      <th>max</th>\n",
       "      <td>15204.633333</td>\n",
       "      <td>1798.000000</td>\n",
       "      <td>1499.00000</td>\n",
       "      <td>5797.000000</td>\n",
       "      <td>67.000000</td>\n",
       "      <td>2597.000000</td>\n",
       "      <td>50.000000</td>\n",
       "      <td>82331.000000</td>\n",
       "    </tr>\n",
       "  </tbody>\n",
       "</table>\n",
       "</div>"
      ],
      "text/plain": [
       "       Monthly_Inhand_Salary  Num_Bank_Accounts  Num_Credit_Card  \\\n",
       "count           84998.000000      100000.000000     100000.00000   \n",
       "mean             4194.170850          17.091280         22.47443   \n",
       "std              3183.686167         117.404834        129.05741   \n",
       "min               303.645417          -1.000000          0.00000   \n",
       "25%              1625.568229           3.000000          4.00000   \n",
       "50%              3093.745000           6.000000          5.00000   \n",
       "75%              5957.448333           7.000000          7.00000   \n",
       "max             15204.633333        1798.000000       1499.00000   \n",
       "\n",
       "       Interest_Rate  Delay_from_due_date  Num_Credit_Inquiries  \\\n",
       "count  100000.000000        100000.000000          98035.000000   \n",
       "mean       72.466040            21.068780             27.754251   \n",
       "std       466.422621            14.860104            193.177339   \n",
       "min         1.000000            -5.000000              0.000000   \n",
       "25%         8.000000            10.000000              3.000000   \n",
       "50%        13.000000            18.000000              6.000000   \n",
       "75%        20.000000            28.000000              9.000000   \n",
       "max      5797.000000            67.000000           2597.000000   \n",
       "\n",
       "       Credit_Utilization_Ratio  Total_EMI_per_month  \n",
       "count             100000.000000        100000.000000  \n",
       "mean                  32.285173          1403.118217  \n",
       "std                    5.116875          8306.041270  \n",
       "min                   20.000000             0.000000  \n",
       "25%                   28.052567            30.306660  \n",
       "50%                   32.305784            69.249473  \n",
       "75%                   36.496663           161.224249  \n",
       "max                   50.000000         82331.000000  "
      ]
     },
     "execution_count": 28,
     "metadata": {},
     "output_type": "execute_result"
    }
   ],
   "source": [
    "df.describe()"
   ]
  },
  {
   "cell_type": "code",
   "execution_count": 29,
   "id": "57377e4f",
   "metadata": {},
   "outputs": [
    {
     "name": "stdout",
     "output_type": "stream",
     "text": [
      "<class 'pandas.core.frame.DataFrame'>\n",
      "RangeIndex: 100000 entries, 0 to 99999\n",
      "Data columns (total 28 columns):\n",
      " #   Column                    Non-Null Count   Dtype  \n",
      "---  ------                    --------------   -----  \n",
      " 0   ID                        100000 non-null  object \n",
      " 1   Customer_ID               100000 non-null  object \n",
      " 2   Month                     100000 non-null  object \n",
      " 3   Name                      90015 non-null   object \n",
      " 4   Age                       100000 non-null  object \n",
      " 5   SSN                       100000 non-null  object \n",
      " 6   Occupation                100000 non-null  object \n",
      " 7   Annual_Income             100000 non-null  object \n",
      " 8   Monthly_Inhand_Salary     84998 non-null   float64\n",
      " 9   Num_Bank_Accounts         100000 non-null  int64  \n",
      " 10  Num_Credit_Card           100000 non-null  int64  \n",
      " 11  Interest_Rate             100000 non-null  int64  \n",
      " 12  Num_of_Loan               100000 non-null  object \n",
      " 13  Type_of_Loan              88592 non-null   object \n",
      " 14  Delay_from_due_date       100000 non-null  int64  \n",
      " 15  Num_of_Delayed_Payment    92998 non-null   object \n",
      " 16  Changed_Credit_Limit      100000 non-null  object \n",
      " 17  Num_Credit_Inquiries      98035 non-null   float64\n",
      " 18  Credit_Mix                100000 non-null  object \n",
      " 19  Outstanding_Debt          100000 non-null  object \n",
      " 20  Credit_Utilization_Ratio  100000 non-null  float64\n",
      " 21  Credit_History_Age        90970 non-null   object \n",
      " 22  Payment_of_Min_Amount     100000 non-null  object \n",
      " 23  Total_EMI_per_month       100000 non-null  float64\n",
      " 24  Amount_invested_monthly   95521 non-null   object \n",
      " 25  Payment_Behaviour         100000 non-null  object \n",
      " 26  Monthly_Balance           98800 non-null   object \n",
      " 27  Credit_Score              100000 non-null  object \n",
      "dtypes: float64(4), int64(4), object(20)\n",
      "memory usage: 21.4+ MB\n"
     ]
    }
   ],
   "source": [
    "df.info()"
   ]
  },
  {
   "cell_type": "markdown",
   "id": "239e4dc9",
   "metadata": {},
   "source": [
    "по вышеприведенной информации видно, что в датасете присутствуют пропущенные значения, также видно, что есть колонки, чей тип не соответствует действительности"
   ]
  },
  {
   "cell_type": "code",
   "execution_count": 30,
   "id": "6c81a567",
   "metadata": {},
   "outputs": [
    {
     "data": {
      "text/plain": [
       "ID                          100000\n",
       "Customer_ID                  12500\n",
       "Month                            8\n",
       "Name                         10139\n",
       "Age                           1788\n",
       "SSN                          12501\n",
       "Occupation                      16\n",
       "Annual_Income                18940\n",
       "Monthly_Inhand_Salary        13235\n",
       "Num_Bank_Accounts              943\n",
       "Num_Credit_Card               1179\n",
       "Interest_Rate                 1750\n",
       "Num_of_Loan                    434\n",
       "Type_of_Loan                  6260\n",
       "Delay_from_due_date             73\n",
       "Num_of_Delayed_Payment         749\n",
       "Changed_Credit_Limit          4384\n",
       "Num_Credit_Inquiries          1223\n",
       "Credit_Mix                       4\n",
       "Outstanding_Debt             13178\n",
       "Credit_Utilization_Ratio    100000\n",
       "Credit_History_Age             404\n",
       "Payment_of_Min_Amount            3\n",
       "Total_EMI_per_month          14950\n",
       "Amount_invested_monthly      91049\n",
       "Payment_Behaviour                7\n",
       "Monthly_Balance              98792\n",
       "Credit_Score                     3\n",
       "dtype: int64"
      ]
     },
     "execution_count": 30,
     "metadata": {},
     "output_type": "execute_result"
    }
   ],
   "source": [
    "df.nunique()"
   ]
  },
  {
   "cell_type": "markdown",
   "id": "66418126",
   "metadata": {},
   "source": [
    "В колонке Num_Bank_Accounts минимальное значение это -1, что не соответствует действительности"
   ]
  },
  {
   "cell_type": "code",
   "execution_count": 31,
   "id": "e1b0d098",
   "metadata": {},
   "outputs": [
    {
     "data": {
      "text/plain": [
       "-1    21\n",
       "Name: Num_Bank_Accounts, dtype: int64"
      ]
     },
     "execution_count": 31,
     "metadata": {},
     "output_type": "execute_result"
    }
   ],
   "source": [
    "df[df['Num_Bank_Accounts'] < 0]['Num_Bank_Accounts'].value_counts()"
   ]
  },
  {
   "cell_type": "code",
   "execution_count": 32,
   "id": "83ff2c94",
   "metadata": {},
   "outputs": [],
   "source": [
    "df['Num_Bank_Accounts'].replace(-1,1,inplace=True)"
   ]
  },
  {
   "cell_type": "markdown",
   "id": "675feb5d",
   "metadata": {},
   "source": [
    "В колонке Delay_from_due_date также есть отрицательные значения, которые не соответствуют действительности"
   ]
  },
  {
   "cell_type": "code",
   "execution_count": 34,
   "id": "c7a94530",
   "metadata": {},
   "outputs": [
    {
     "data": {
      "text/plain": [
       "-1    210\n",
       "-2    168\n",
       "-3    118\n",
       "-4     62\n",
       "-5     33\n",
       "Name: Delay_from_due_date, dtype: int64"
      ]
     },
     "execution_count": 34,
     "metadata": {},
     "output_type": "execute_result"
    }
   ],
   "source": [
    "df[df['Delay_from_due_date'] < 0]['Delay_from_due_date'].value_counts()"
   ]
  },
  {
   "cell_type": "code",
   "execution_count": 36,
   "id": "f3725d48",
   "metadata": {},
   "outputs": [],
   "source": [
    "df['Delay_from_due_date'].replace([-1, -2, -3, -4, -5],1,inplace=True)"
   ]
  },
  {
   "cell_type": "markdown",
   "id": "20c2a814",
   "metadata": {},
   "source": [
    "## Визуализация данных"
   ]
  },
  {
   "cell_type": "code",
   "execution_count": 41,
   "id": "fe00456d",
   "metadata": {},
   "outputs": [
    {
     "data": {
      "text/plain": [
       "<AxesSubplot:>"
      ]
     },
     "execution_count": 41,
     "metadata": {},
     "output_type": "execute_result"
    },
    {
     "data": {
      "image/png": "[encoded data removed]",
      "text/plain": [
       "<Figure size 432x288 with 1 Axes>"
      ]
     },
     "metadata": {
      "needs_background": "light"
     },
     "output_type": "display_data"
    }
   ],
   "source": [
    "df[\"Credit_Score\"].hist()"
   ]
  },
  {
   "cell_type": "markdown",
   "id": "520774f0",
   "metadata": {},
   "source": [
    "По гистограмме видно, что классы распределены неравномерно"
   ]
  },
  {
   "cell_type": "code",
   "execution_count": 43,
   "id": "12f78f34",
   "metadata": {},
   "outputs": [
    {
     "data": {
      "text/plain": [
       "<AxesSubplot:>"
      ]
     },
     "execution_count": 43,
     "metadata": {},
     "output_type": "execute_result"
    },
    {
     "data": {
      "image/png": "[encoded data removed]",
      "text/plain": [
       "<Figure size 432x288 with 1 Axes>"
      ]
     },
     "metadata": {
      "needs_background": "light"
     },
     "output_type": "display_data"
    }
   ],
   "source": [
    "df['Month'].hist()"
   ]
  },
  {
   "cell_type": "markdown",
   "id": "b4f75237",
   "metadata": {},
   "source": [
    "По данной гистограмме видно, что данные брались для каждого человека за 8 определенных месяцев"
   ]
  },
  {
   "cell_type": "code",
   "execution_count": 46,
   "id": "0518424a",
   "metadata": {},
   "outputs": [
    {
     "data": {
      "text/plain": [
       "_______          7062\n",
       "Lawyer           6575\n",
       "Architect        6355\n",
       "Engineer         6350\n",
       "Scientist        6299\n",
       "Mechanic         6291\n",
       "Accountant       6271\n",
       "Developer        6235\n",
       "Media_Manager    6232\n",
       "Teacher          6215\n",
       "Entrepreneur     6174\n",
       "Doctor           6087\n",
       "Journalist       6085\n",
       "Manager          5973\n",
       "Musician         5911\n",
       "Writer           5885\n",
       "Name: Occupation, dtype: int64"
      ]
     },
     "execution_count": 46,
     "metadata": {},
     "output_type": "execute_result"
    }
   ],
   "source": [
    "df['Occupation'].value_counts()"
   ]
  },
  {
   "cell_type": "markdown",
   "id": "772670d1",
   "metadata": {},
   "source": [
    "По данным видим одно непонятное значение, очевидно, что здесь пропущено название какой то профессии"
   ]
  },
  {
   "cell_type": "code",
   "execution_count": 53,
   "id": "44e917f7",
   "metadata": {},
   "outputs": [
    {
     "data": {
      "text/plain": [
       "<AxesSubplot:>"
      ]
     },
     "execution_count": 53,
     "metadata": {},
     "output_type": "execute_result"
    },
    {
     "data": {
      "image/png": "[encoded data removed]",
      "text/plain": [
       "<Figure size 432x288 with 1 Axes>"
      ]
     },
     "metadata": {
      "needs_background": "light"
     },
     "output_type": "display_data"
    }
   ],
   "source": [
    "df['Credit_Mix'].hist()"
   ]
  },
  {
   "cell_type": "markdown",
   "id": "3f2645a6",
   "metadata": {},
   "source": [
    "По данному графику видно, что здесь присутствует значение, суть которого не ясна и впоследствии его следует обработать"
   ]
  },
  {
   "cell_type": "code",
   "execution_count": 55,
   "id": "ae436933",
   "metadata": {},
   "outputs": [
    {
     "data": {
      "text/plain": [
       "<AxesSubplot:>"
      ]
     },
     "execution_count": 55,
     "metadata": {},
     "output_type": "execute_result"
    },
    {
     "data": {
      "image/png": "[encoded data removed]",
      "text/plain": [
       "<Figure size 432x288 with 1 Axes>"
      ]
     },
     "metadata": {
      "needs_background": "light"
     },
     "output_type": "display_data"
    }
   ],
   "source": [
    "df['Payment_of_Min_Amount'].hist()"
   ]
  },
  {
   "cell_type": "markdown",
   "id": "b82ac44f",
   "metadata": {},
   "source": [
    "Здесь также присутствует странное значение, так как данная колонка предпологает значение ДА или НЕТ, данное значение будет обработано как НЕТ"
   ]
  },
  {
   "cell_type": "code",
   "execution_count": 57,
   "id": "a290c908",
   "metadata": {},
   "outputs": [
    {
     "data": {
      "text/plain": [
       "<AxesSubplot:>"
      ]
     },
     "execution_count": 57,
     "metadata": {},
     "output_type": "execute_result"
    },
    {
     "data": {
      "image/png": "[encoded data removed]",
      "text/plain": [
       "<Figure size 1584x576 with 1 Axes>"
      ]
     },
     "metadata": {
      "needs_background": "light"
     },
     "output_type": "display_data"
    }
   ],
   "source": [
    "df['Payment_Behaviour'].hist(figsize=(22, 8))"
   ]
  },
  {
   "cell_type": "code",
   "execution_count": 59,
   "id": "c6f64bfa",
   "metadata": {},
   "outputs": [
    {
     "data": {
      "text/plain": [
       "<AxesSubplot:xlabel='Monthly_Inhand_Salary', ylabel='Count'>"
      ]
     },
     "execution_count": 59,
     "metadata": {},
     "output_type": "execute_result"
    },
    {
     "data": {
      "image/png": "[encoded data removed]",
      "text/plain": [
       "<Figure size 432x288 with 1 Axes>"
      ]
     },
     "metadata": {
      "needs_background": "light"
     },
     "output_type": "display_data"
    }
   ],
   "source": [
    "sns.histplot(df['Monthly_Inhand_Salary'])"
   ]
  },
  {
   "cell_type": "code",
   "execution_count": 66,
   "id": "70c9e81e",
   "metadata": {},
   "outputs": [
    {
     "data": {
      "image/png": "[encoded data removed]",
      "text/plain": [
       "<Figure size 432x288 with 2 Axes>"
      ]
     },
     "metadata": {
      "needs_background": "light"
     },
     "output_type": "display_data"
    }
   ],
   "source": [
    "g = sns.heatmap(data=df.corr(), cmap='viridis') \n",
    "g.xaxis.set_ticks_position('top')\n",
    "g.xaxis.set_tick_params(rotation=90)"
   ]
  },
  {
   "cell_type": "markdown",
   "id": "a1dfb354",
   "metadata": {},
   "source": [
    "По данному графику видим, что столбцы слабо коррелируют между собой"
   ]
  },
  {
   "cell_type": "markdown",
   "id": "917a5ef5",
   "metadata": {},
   "source": [
    "## Предобработка данных"
   ]
  },
  {
   "cell_type": "code",
   "execution_count": 157,
   "id": "363fc660",
   "metadata": {},
   "outputs": [
    {
     "data": {
      "text/plain": [
       "(100000, 28)"
      ]
     },
     "execution_count": 157,
     "metadata": {},
     "output_type": "execute_result"
    }
   ],
   "source": [
    "df.shape"
   ]
  },
  {
   "cell_type": "markdown",
   "id": "9bdee5cf",
   "metadata": {},
   "source": [
    "Удалим колонки, которые не несут полезной информации для нашей задачи"
   ]
  },
  {
   "cell_type": "code",
   "execution_count": 197,
   "id": "ad6f6c91",
   "metadata": {},
   "outputs": [],
   "source": [
    "df = df.drop(['ID', 'Customer_ID', 'Name', 'SSN', 'Month', 'Type_of_Loan'], axis=1)"
   ]
  },
  {
   "cell_type": "code",
   "execution_count": 198,
   "id": "edce4aba",
   "metadata": {},
   "outputs": [
    {
     "data": {
      "text/plain": [
       "(100000, 22)"
      ]
     },
     "execution_count": 198,
     "metadata": {},
     "output_type": "execute_result"
    }
   ],
   "source": [
    "df.shape"
   ]
  },
  {
   "cell_type": "markdown",
   "id": "2aa4744b",
   "metadata": {},
   "source": [
    "Преобразуем колонки типа object, котрые должны быть числовыми"
   ]
  },
  {
   "cell_type": "code",
   "execution_count": 199,
   "id": "08afa1c3",
   "metadata": {},
   "outputs": [],
   "source": [
    "def transform_to_int(num):\n",
    "    try:\n",
    "        return int(num.replace(\"_\",\"\"))\n",
    "    except:\n",
    "        return np.nan"
   ]
  },
  {
   "cell_type": "code",
   "execution_count": 200,
   "id": "bb78f274",
   "metadata": {},
   "outputs": [],
   "source": [
    "def transform_to_float(num):\n",
    "    try:\n",
    "        return float(num.replace(\"_\",\"\"))\n",
    "    except:\n",
    "        return np.nan"
   ]
  },
  {
   "cell_type": "markdown",
   "id": "9abcef3c",
   "metadata": {},
   "source": [
    "Age, Num_of_Loan, Num_of_Delayed_Payment"
   ]
  },
  {
   "cell_type": "code",
   "execution_count": 201,
   "id": "144328c5",
   "metadata": {},
   "outputs": [],
   "source": [
    "df['Age'] = df['Age'].apply(transform_to_int)\n",
    "df['Num_of_Loan'] = df['Num_of_Loan'].apply(transform_to_int)\n",
    "df['Num_of_Delayed_Payment'] = df['Num_of_Delayed_Payment'].apply(transform_to_int)"
   ]
  },
  {
   "cell_type": "markdown",
   "id": "1c585c74",
   "metadata": {},
   "source": [
    "Annual_Income, Changed_Credit_Limit, Amount_invested_monthly, Outstanding_Debt, Monthly_Balance"
   ]
  },
  {
   "cell_type": "code",
   "execution_count": 202,
   "id": "f8d1fa58",
   "metadata": {},
   "outputs": [],
   "source": [
    "df['Annual_Income'] = df['Annual_Income'].apply(transform_to_float)\n",
    "df['Changed_Credit_Limit'] = df['Changed_Credit_Limit'].apply(transform_to_float)\n",
    "df['Amount_invested_monthly'] = df['Amount_invested_monthly'].apply(transform_to_float)\n",
    "df['Outstanding_Debt'] = df['Outstanding_Debt'].apply(transform_to_float)\n",
    "df['Monthly_Balance'] = df['Monthly_Balance'].apply(transform_to_float)"
   ]
  },
  {
   "cell_type": "markdown",
   "id": "5cea133a",
   "metadata": {},
   "source": [
    "Credit_History_Age"
   ]
  },
  {
   "cell_type": "code",
   "execution_count": 203,
   "id": "48c2c89b",
   "metadata": {},
   "outputs": [],
   "source": [
    "def History_age(age):\n",
    "    try : \n",
    "        years = int(\"\".join(re.findall('[0-9]',''.join(age.split(\"and\")[0]))))\n",
    "        month = int(\"\".join(re.findall('[0-9]',''.join(age.split(\"and\")[1]))))\n",
    "        return years*12 + month\n",
    "    except :\n",
    "        return np.nan"
   ]
  },
  {
   "cell_type": "code",
   "execution_count": 204,
   "id": "f801cdaf",
   "metadata": {},
   "outputs": [],
   "source": [
    "df['Credit_History_Age'] = df['Credit_History_Age'].apply(History_age)"
   ]
  },
  {
   "cell_type": "code",
   "execution_count": 205,
   "id": "0374a490",
   "metadata": {},
   "outputs": [
    {
     "name": "stdout",
     "output_type": "stream",
     "text": [
      "<class 'pandas.core.frame.DataFrame'>\n",
      "RangeIndex: 100000 entries, 0 to 99999\n",
      "Data columns (total 22 columns):\n",
      " #   Column                    Non-Null Count   Dtype  \n",
      "---  ------                    --------------   -----  \n",
      " 0   Age                       100000 non-null  int64  \n",
      " 1   Occupation                100000 non-null  object \n",
      " 2   Annual_Income             100000 non-null  float64\n",
      " 3   Monthly_Inhand_Salary     84998 non-null   float64\n",
      " 4   Num_Bank_Accounts         100000 non-null  int64  \n",
      " 5   Num_Credit_Card           100000 non-null  int64  \n",
      " 6   Interest_Rate             100000 non-null  int64  \n",
      " 7   Num_of_Loan               100000 non-null  int64  \n",
      " 8   Delay_from_due_date       100000 non-null  int64  \n",
      " 9   Num_of_Delayed_Payment    92998 non-null   float64\n",
      " 10  Changed_Credit_Limit      97909 non-null   float64\n",
      " 11  Num_Credit_Inquiries      98035 non-null   float64\n",
      " 12  Credit_Mix                100000 non-null  object \n",
      " 13  Outstanding_Debt          100000 non-null  float64\n",
      " 14  Credit_Utilization_Ratio  100000 non-null  float64\n",
      " 15  Credit_History_Age        90970 non-null   float64\n",
      " 16  Payment_of_Min_Amount     100000 non-null  object \n",
      " 17  Total_EMI_per_month       100000 non-null  float64\n",
      " 18  Amount_invested_monthly   95521 non-null   float64\n",
      " 19  Payment_Behaviour         100000 non-null  object \n",
      " 20  Monthly_Balance           98800 non-null   float64\n",
      " 21  Credit_Score              100000 non-null  object \n",
      "dtypes: float64(11), int64(6), object(5)\n",
      "memory usage: 16.8+ MB\n"
     ]
    }
   ],
   "source": [
    "df.info()"
   ]
  },
  {
   "cell_type": "markdown",
   "id": "2827b74a",
   "metadata": {},
   "source": [
    "Устраняем ранее найденные непонятные значения"
   ]
  },
  {
   "cell_type": "code",
   "execution_count": 206,
   "id": "3db5cace",
   "metadata": {},
   "outputs": [],
   "source": [
    "df['Payment_of_Min_Amount'].replace(\"NM\",\"No\",inplace=True)"
   ]
  },
  {
   "cell_type": "code",
   "execution_count": 207,
   "id": "87b6f2e8",
   "metadata": {},
   "outputs": [
    {
     "data": {
      "text/plain": [
       "Standard    36479\n",
       "Good        24337\n",
       "_           20195\n",
       "Bad         18989\n",
       "Name: Credit_Mix, dtype: int64"
      ]
     },
     "execution_count": 207,
     "metadata": {},
     "output_type": "execute_result"
    }
   ],
   "source": [
    "df['Credit_Mix'].value_counts()"
   ]
  },
  {
   "cell_type": "code",
   "execution_count": 208,
   "id": "0d52c830",
   "metadata": {},
   "outputs": [],
   "source": [
    "template = {\n",
    "    \"Bad\":0,\n",
    "    \"Standard\":1,\n",
    "    \"Good\":2,\n",
    "    \"_\":np.nan\n",
    "}"
   ]
  },
  {
   "cell_type": "code",
   "execution_count": 209,
   "id": "66361e38",
   "metadata": {},
   "outputs": [],
   "source": [
    "df['Credit_Mix'] = df['Credit_Mix'].map(template)"
   ]
  },
  {
   "cell_type": "code",
   "execution_count": 210,
   "id": "178c19f5",
   "metadata": {},
   "outputs": [
    {
     "data": {
      "text/plain": [
       "Low_spent_Small_value_payments      25513\n",
       "High_spent_Medium_value_payments    17540\n",
       "Low_spent_Medium_value_payments     13861\n",
       "High_spent_Large_value_payments     13721\n",
       "High_spent_Small_value_payments     11340\n",
       "Low_spent_Large_value_payments      10425\n",
       "!@9#%8                               7600\n",
       "Name: Payment_Behaviour, dtype: int64"
      ]
     },
     "execution_count": 210,
     "metadata": {},
     "output_type": "execute_result"
    }
   ],
   "source": [
    "df['Payment_Behaviour'].value_counts()"
   ]
  },
  {
   "cell_type": "code",
   "execution_count": 211,
   "id": "5b8ad262",
   "metadata": {},
   "outputs": [],
   "source": [
    "df['Payment_Behaviour']= df['Payment_Behaviour'].replace(\"!@9#%8\",np.nan)"
   ]
  },
  {
   "cell_type": "code",
   "execution_count": 212,
   "id": "3461f2c0",
   "metadata": {},
   "outputs": [
    {
     "name": "stdout",
     "output_type": "stream",
     "text": [
      "<class 'pandas.core.frame.DataFrame'>\n",
      "RangeIndex: 100000 entries, 0 to 99999\n",
      "Data columns (total 22 columns):\n",
      " #   Column                    Non-Null Count   Dtype  \n",
      "---  ------                    --------------   -----  \n",
      " 0   Age                       100000 non-null  int64  \n",
      " 1   Occupation                100000 non-null  object \n",
      " 2   Annual_Income             100000 non-null  float64\n",
      " 3   Monthly_Inhand_Salary     84998 non-null   float64\n",
      " 4   Num_Bank_Accounts         100000 non-null  int64  \n",
      " 5   Num_Credit_Card           100000 non-null  int64  \n",
      " 6   Interest_Rate             100000 non-null  int64  \n",
      " 7   Num_of_Loan               100000 non-null  int64  \n",
      " 8   Delay_from_due_date       100000 non-null  int64  \n",
      " 9   Num_of_Delayed_Payment    92998 non-null   float64\n",
      " 10  Changed_Credit_Limit      97909 non-null   float64\n",
      " 11  Num_Credit_Inquiries      98035 non-null   float64\n",
      " 12  Credit_Mix                79805 non-null   float64\n",
      " 13  Outstanding_Debt          100000 non-null  float64\n",
      " 14  Credit_Utilization_Ratio  100000 non-null  float64\n",
      " 15  Credit_History_Age        90970 non-null   float64\n",
      " 16  Payment_of_Min_Amount     100000 non-null  object \n",
      " 17  Total_EMI_per_month       100000 non-null  float64\n",
      " 18  Amount_invested_monthly   95521 non-null   float64\n",
      " 19  Payment_Behaviour         92400 non-null   object \n",
      " 20  Monthly_Balance           98800 non-null   float64\n",
      " 21  Credit_Score              100000 non-null  object \n",
      "dtypes: float64(12), int64(6), object(4)\n",
      "memory usage: 16.8+ MB\n"
     ]
    }
   ],
   "source": [
    "df.info()"
   ]
  },
  {
   "cell_type": "markdown",
   "id": "64a1ea76",
   "metadata": {},
   "source": [
    "## Заполнение пропущенных значений"
   ]
  },
  {
   "cell_type": "code",
   "execution_count": 213,
   "id": "bd225a0c",
   "metadata": {},
   "outputs": [],
   "source": [
    "from sklearn.impute import KNNImputer\n",
    "imputer = KNNImputer(n_neighbors=1)"
   ]
  },
  {
   "cell_type": "code",
   "execution_count": 214,
   "id": "63994a6c",
   "metadata": {},
   "outputs": [],
   "source": [
    "col_with_null = ['Monthly_Inhand_Salary', 'Num_of_Delayed_Payment', 'Changed_Credit_Limit', 'Num_Credit_Inquiries',\n",
    "                 'Credit_Mix', 'Credit_History_Age', 'Amount_invested_monthly', 'Monthly_Balance']"
   ]
  },
  {
   "cell_type": "code",
   "execution_count": 215,
   "id": "8af4208c",
   "metadata": {},
   "outputs": [],
   "source": [
    "for col in col_with_null:\n",
    "    imputer.fit(df[[col]])\n",
    "    df[[col]] = imputer.transform(df[[col]])"
   ]
  },
  {
   "cell_type": "code",
   "execution_count": 216,
   "id": "badfd727",
   "metadata": {},
   "outputs": [],
   "source": [
    "imputer = SimpleImputer(strategy=\"most_frequent\")\n",
    "imputer.fit(df[['Payment_Behaviour']])\n",
    "df[['Payment_Behaviour']] = imputer.transform(df[['Payment_Behaviour']])"
   ]
  },
  {
   "cell_type": "code",
   "execution_count": 217,
   "id": "5f77741c",
   "metadata": {},
   "outputs": [
    {
     "name": "stdout",
     "output_type": "stream",
     "text": [
      "<class 'pandas.core.frame.DataFrame'>\n",
      "RangeIndex: 100000 entries, 0 to 99999\n",
      "Data columns (total 22 columns):\n",
      " #   Column                    Non-Null Count   Dtype  \n",
      "---  ------                    --------------   -----  \n",
      " 0   Age                       100000 non-null  int64  \n",
      " 1   Occupation                100000 non-null  object \n",
      " 2   Annual_Income             100000 non-null  float64\n",
      " 3   Monthly_Inhand_Salary     100000 non-null  float64\n",
      " 4   Num_Bank_Accounts         100000 non-null  int64  \n",
      " 5   Num_Credit_Card           100000 non-null  int64  \n",
      " 6   Interest_Rate             100000 non-null  int64  \n",
      " 7   Num_of_Loan               100000 non-null  int64  \n",
      " 8   Delay_from_due_date       100000 non-null  int64  \n",
      " 9   Num_of_Delayed_Payment    100000 non-null  float64\n",
      " 10  Changed_Credit_Limit      100000 non-null  float64\n",
      " 11  Num_Credit_Inquiries      100000 non-null  float64\n",
      " 12  Credit_Mix                100000 non-null  float64\n",
      " 13  Outstanding_Debt          100000 non-null  float64\n",
      " 14  Credit_Utilization_Ratio  100000 non-null  float64\n",
      " 15  Credit_History_Age        100000 non-null  float64\n",
      " 16  Payment_of_Min_Amount     100000 non-null  object \n",
      " 17  Total_EMI_per_month       100000 non-null  float64\n",
      " 18  Amount_invested_monthly   100000 non-null  float64\n",
      " 19  Payment_Behaviour         100000 non-null  object \n",
      " 20  Monthly_Balance           100000 non-null  float64\n",
      " 21  Credit_Score              100000 non-null  object \n",
      "dtypes: float64(12), int64(6), object(4)\n",
      "memory usage: 16.8+ MB\n"
     ]
    }
   ],
   "source": [
    "df.info()"
   ]
  },
  {
   "cell_type": "markdown",
   "id": "d7357177",
   "metadata": {},
   "source": [
    "## Обработка категориальных признаков"
   ]
  },
  {
   "cell_type": "code",
   "execution_count": 218,
   "id": "0fc0183f",
   "metadata": {},
   "outputs": [
    {
     "data": {
      "text/plain": [
       "Standard    53174\n",
       "Poor        28998\n",
       "Good        17828\n",
       "Name: Credit_Score, dtype: int64"
      ]
     },
     "execution_count": 218,
     "metadata": {},
     "output_type": "execute_result"
    }
   ],
   "source": [
    "df['Credit_Score'].value_counts()"
   ]
  },
  {
   "cell_type": "code",
   "execution_count": 219,
   "id": "b807383b",
   "metadata": {},
   "outputs": [],
   "source": [
    "template = {\n",
    "    \"Poor\":0,\n",
    "    \"Standard\":1,\n",
    "    \"Good\":2\n",
    "}"
   ]
  },
  {
   "cell_type": "code",
   "execution_count": 220,
   "id": "d62c7544",
   "metadata": {},
   "outputs": [],
   "source": [
    "df['Credit_Score'] = df['Credit_Score'].map(template)"
   ]
  },
  {
   "cell_type": "code",
   "execution_count": 221,
   "id": "7dbdb56c",
   "metadata": {},
   "outputs": [],
   "source": [
    "df = pd.get_dummies(df,drop_first=True)"
   ]
  },
  {
   "cell_type": "code",
   "execution_count": 222,
   "id": "1592b3f6",
   "metadata": {},
   "outputs": [
    {
     "name": "stdout",
     "output_type": "stream",
     "text": [
      "<class 'pandas.core.frame.DataFrame'>\n",
      "RangeIndex: 100000 entries, 0 to 99999\n",
      "Data columns (total 40 columns):\n",
      " #   Column                                              Non-Null Count   Dtype  \n",
      "---  ------                                              --------------   -----  \n",
      " 0   Age                                                 100000 non-null  int64  \n",
      " 1   Annual_Income                                       100000 non-null  float64\n",
      " 2   Monthly_Inhand_Salary                               100000 non-null  float64\n",
      " 3   Num_Bank_Accounts                                   100000 non-null  int64  \n",
      " 4   Num_Credit_Card                                     100000 non-null  int64  \n",
      " 5   Interest_Rate                                       100000 non-null  int64  \n",
      " 6   Num_of_Loan                                         100000 non-null  int64  \n",
      " 7   Delay_from_due_date                                 100000 non-null  int64  \n",
      " 8   Num_of_Delayed_Payment                              100000 non-null  float64\n",
      " 9   Changed_Credit_Limit                                100000 non-null  float64\n",
      " 10  Num_Credit_Inquiries                                100000 non-null  float64\n",
      " 11  Credit_Mix                                          100000 non-null  float64\n",
      " 12  Outstanding_Debt                                    100000 non-null  float64\n",
      " 13  Credit_Utilization_Ratio                            100000 non-null  float64\n",
      " 14  Credit_History_Age                                  100000 non-null  float64\n",
      " 15  Total_EMI_per_month                                 100000 non-null  float64\n",
      " 16  Amount_invested_monthly                             100000 non-null  float64\n",
      " 17  Monthly_Balance                                     100000 non-null  float64\n",
      " 18  Credit_Score                                        100000 non-null  int64  \n",
      " 19  Occupation_Architect                                100000 non-null  uint8  \n",
      " 20  Occupation_Developer                                100000 non-null  uint8  \n",
      " 21  Occupation_Doctor                                   100000 non-null  uint8  \n",
      " 22  Occupation_Engineer                                 100000 non-null  uint8  \n",
      " 23  Occupation_Entrepreneur                             100000 non-null  uint8  \n",
      " 24  Occupation_Journalist                               100000 non-null  uint8  \n",
      " 25  Occupation_Lawyer                                   100000 non-null  uint8  \n",
      " 26  Occupation_Manager                                  100000 non-null  uint8  \n",
      " 27  Occupation_Mechanic                                 100000 non-null  uint8  \n",
      " 28  Occupation_Media_Manager                            100000 non-null  uint8  \n",
      " 29  Occupation_Musician                                 100000 non-null  uint8  \n",
      " 30  Occupation_Scientist                                100000 non-null  uint8  \n",
      " 31  Occupation_Teacher                                  100000 non-null  uint8  \n",
      " 32  Occupation_Writer                                   100000 non-null  uint8  \n",
      " 33  Occupation________                                  100000 non-null  uint8  \n",
      " 34  Payment_of_Min_Amount_Yes                           100000 non-null  uint8  \n",
      " 35  Payment_Behaviour_High_spent_Medium_value_payments  100000 non-null  uint8  \n",
      " 36  Payment_Behaviour_High_spent_Small_value_payments   100000 non-null  uint8  \n",
      " 37  Payment_Behaviour_Low_spent_Large_value_payments    100000 non-null  uint8  \n",
      " 38  Payment_Behaviour_Low_spent_Medium_value_payments   100000 non-null  uint8  \n",
      " 39  Payment_Behaviour_Low_spent_Small_value_payments    100000 non-null  uint8  \n",
      "dtypes: float64(12), int64(7), uint8(21)\n",
      "memory usage: 16.5 MB\n"
     ]
    }
   ],
   "source": [
    "df.info()"
   ]
  },
  {
   "cell_type": "markdown",
   "id": "46fbfea6",
   "metadata": {},
   "source": [
    "## Разделение данных"
   ]
  },
  {
   "cell_type": "code",
   "execution_count": 223,
   "id": "931ae611",
   "metadata": {},
   "outputs": [],
   "source": [
    "y = df[\"Credit_Score\"]"
   ]
  },
  {
   "cell_type": "code",
   "execution_count": 224,
   "id": "46de7a79",
   "metadata": {},
   "outputs": [],
   "source": [
    "X = df.drop(\"Credit_Score\",axis=1)"
   ]
  },
  {
   "cell_type": "code",
   "execution_count": 225,
   "id": "9ebdcec3",
   "metadata": {},
   "outputs": [],
   "source": [
    "scaler = StandardScaler()"
   ]
  },
  {
   "cell_type": "code",
   "execution_count": 226,
   "id": "004373cc",
   "metadata": {},
   "outputs": [],
   "source": [
    "X = pd.DataFrame(scaler.fit_transform(X), columns=X.columns)"
   ]
  },
  {
   "cell_type": "code",
   "execution_count": 227,
   "id": "07cb4a27",
   "metadata": {},
   "outputs": [],
   "source": [
    "X_train, X_test, y_train, y_test = train_test_split(X, y, test_size=0.3, random_state=12)"
   ]
  },
  {
   "cell_type": "markdown",
   "id": "9df5a40f",
   "metadata": {},
   "source": [
    "## Обучение"
   ]
  },
  {
   "cell_type": "markdown",
   "id": "f76b35fc",
   "metadata": {},
   "source": [
    "# KNN"
   ]
  },
  {
   "cell_type": "code",
   "execution_count": 270,
   "id": "af8b1af7",
   "metadata": {},
   "outputs": [],
   "source": [
    "knn = KNeighborsClassifier()"
   ]
  },
  {
   "cell_type": "code",
   "execution_count": 272,
   "id": "06bd6bfd",
   "metadata": {},
   "outputs": [],
   "source": [
    "parametrs = {'n_neighbors': [i for i in range(3, 15, 3)]}"
   ]
  },
  {
   "cell_type": "code",
   "execution_count": 273,
   "id": "5130b093",
   "metadata": {},
   "outputs": [],
   "source": [
    "grid_search_cv = GridSearchCV(knn, parametrs, cv=5)"
   ]
  },
  {
   "cell_type": "code",
   "execution_count": 274,
   "id": "840267b2",
   "metadata": {},
   "outputs": [
    {
     "data": {
      "text/plain": [
       "GridSearchCV(cv=5, estimator=KNeighborsClassifier(),\n",
       "             param_grid={'n_neighbors': [3, 6, 9, 12]})"
      ]
     },
     "execution_count": 274,
     "metadata": {},
     "output_type": "execute_result"
    }
   ],
   "source": [
    "grid_search_cv.fit(X_train, y_train)"
   ]
  },
  {
   "cell_type": "code",
   "execution_count": 275,
   "id": "37d3841d",
   "metadata": {},
   "outputs": [
    {
     "data": {
      "text/plain": [
       "{'n_neighbors': 12}"
      ]
     },
     "execution_count": 275,
     "metadata": {},
     "output_type": "execute_result"
    }
   ],
   "source": [
    "grid_search_cv.best_params_"
   ]
  },
  {
   "cell_type": "code",
   "execution_count": 276,
   "id": "e558bf01",
   "metadata": {},
   "outputs": [],
   "source": [
    "best_knn = grid_search_cv.best_estimator_"
   ]
  },
  {
   "cell_type": "code",
   "execution_count": 277,
   "id": "bf4131e3",
   "metadata": {},
   "outputs": [],
   "source": [
    "y_pred = best_knn.predict(X_test)\n",
    "y_pred_train = best_knn.predict(X_train)"
   ]
  },
  {
   "cell_type": "code",
   "execution_count": 278,
   "id": "e3e0a4bc",
   "metadata": {},
   "outputs": [
    {
     "name": "stdout",
     "output_type": "stream",
     "text": [
      "              precision    recall  f1-score   support\n",
      "\n",
      "           0       0.60      0.70      0.65     17323\n",
      "           1       0.80      0.70      0.74     42653\n",
      "           2       0.47      0.59      0.53     10024\n",
      "\n",
      "    accuracy                           0.68     70000\n",
      "   macro avg       0.62      0.66      0.64     70000\n",
      "weighted avg       0.70      0.68      0.69     70000\n",
      "\n"
     ]
    }
   ],
   "source": [
    "print(classification_report(y_pred_train,y_train))"
   ]
  },
  {
   "cell_type": "code",
   "execution_count": 279,
   "id": "56667ec6",
   "metadata": {},
   "outputs": [
    {
     "name": "stdout",
     "output_type": "stream",
     "text": [
      "              precision    recall  f1-score   support\n",
      "\n",
      "           0       0.52      0.63      0.57      7287\n",
      "           1       0.75      0.65      0.69     18416\n",
      "           2       0.40      0.49      0.44      4297\n",
      "\n",
      "    accuracy                           0.62     30000\n",
      "   macro avg       0.56      0.59      0.57     30000\n",
      "weighted avg       0.64      0.62      0.63     30000\n",
      "\n"
     ]
    }
   ],
   "source": [
    "print(classification_report(y_pred,y_test))"
   ]
  },
  {
   "cell_type": "markdown",
   "id": "54577254",
   "metadata": {},
   "source": [
    "# Random forest"
   ]
  },
  {
   "cell_type": "code",
   "execution_count": 280,
   "id": "3256d6d5",
   "metadata": {},
   "outputs": [],
   "source": [
    "rf = RandomForestClassifier()"
   ]
  },
  {
   "cell_type": "code",
   "execution_count": 281,
   "id": "3c7ba46f",
   "metadata": {},
   "outputs": [],
   "source": [
    "parametrs = {'n_estimators': [i for i in range(10, 30, 3)], 'max_depth': [i for i in range(3, 11, 2)]}"
   ]
  },
  {
   "cell_type": "code",
   "execution_count": 282,
   "id": "62bc517c",
   "metadata": {},
   "outputs": [],
   "source": [
    "grid_search_cv = GridSearchCV(rf, parametrs, cv=5)"
   ]
  },
  {
   "cell_type": "code",
   "execution_count": 283,
   "id": "0ed7eec4",
   "metadata": {},
   "outputs": [
    {
     "data": {
      "text/plain": [
       "GridSearchCV(cv=5, estimator=RandomForestClassifier(),\n",
       "             param_grid={'max_depth': [3, 5, 7, 9],\n",
       "                         'n_estimators': [10, 13, 16, 19, 22, 25, 28]})"
      ]
     },
     "execution_count": 283,
     "metadata": {},
     "output_type": "execute_result"
    }
   ],
   "source": [
    "grid_search_cv.fit(X_train, y_train)"
   ]
  },
  {
   "cell_type": "code",
   "execution_count": 284,
   "id": "2d6947cd",
   "metadata": {},
   "outputs": [
    {
     "data": {
      "text/plain": [
       "{'max_depth': 9, 'n_estimators': 28}"
      ]
     },
     "execution_count": 284,
     "metadata": {},
     "output_type": "execute_result"
    }
   ],
   "source": [
    "grid_search_cv.best_params_"
   ]
  },
  {
   "cell_type": "code",
   "execution_count": 285,
   "id": "60995aba",
   "metadata": {},
   "outputs": [],
   "source": [
    "best_rf = grid_search_cv.best_estimator_"
   ]
  },
  {
   "cell_type": "code",
   "execution_count": 286,
   "id": "cd059cda",
   "metadata": {},
   "outputs": [],
   "source": [
    "y_pred_rf = best_rf.predict(X_test)"
   ]
  },
  {
   "cell_type": "code",
   "execution_count": 287,
   "id": "4e84523b",
   "metadata": {},
   "outputs": [],
   "source": [
    "y_pred_train_rf = best_rf.predict(X_train)"
   ]
  },
  {
   "cell_type": "code",
   "execution_count": 288,
   "id": "dc7c1fbe",
   "metadata": {},
   "outputs": [
    {
     "name": "stdout",
     "output_type": "stream",
     "text": [
      "              precision    recall  f1-score   support\n",
      "\n",
      "           0       0.68      0.75      0.71     18191\n",
      "           1       0.76      0.76      0.76     36865\n",
      "           2       0.70      0.59      0.64     14944\n",
      "\n",
      "    accuracy                           0.72     70000\n",
      "   macro avg       0.71      0.70      0.70     70000\n",
      "weighted avg       0.72      0.72      0.72     70000\n",
      "\n"
     ]
    }
   ],
   "source": [
    "print(classification_report(y_pred_train_rf,y_train))"
   ]
  },
  {
   "cell_type": "code",
   "execution_count": 289,
   "id": "72e9793b",
   "metadata": {},
   "outputs": [
    {
     "name": "stdout",
     "output_type": "stream",
     "text": [
      "              precision    recall  f1-score   support\n",
      "\n",
      "           0       0.66      0.75      0.70      7753\n",
      "           1       0.74      0.75      0.75     15754\n",
      "           2       0.69      0.56      0.62      6493\n",
      "\n",
      "    accuracy                           0.71     30000\n",
      "   macro avg       0.70      0.69      0.69     30000\n",
      "weighted avg       0.71      0.71      0.71     30000\n",
      "\n"
     ]
    }
   ],
   "source": [
    "print(classification_report(y_pred_rf,y_test))"
   ]
  },
  {
   "cell_type": "markdown",
   "id": "57d09841",
   "metadata": {},
   "source": [
    "Удалось добиться точности в 71 процент, используя случайный лес, в силу того, что точность предсказания класса 1 выше, чем у остальных и его количество в выборке также больше, то такой результат объясняется несбалансированностью классов"
   ]
  }
 ],
 "metadata": {
  "kernelspec": {
   "display_name": "Python 3",
   "language": "python",
   "name": "python3"
  },
  "language_info": {
   "codemirror_mode": {
    "name": "ipython",
    "version": 3
   },
   "file_extension": ".py",
   "mimetype": "text/x-python",
   "name": "python",
   "nbconvert_exporter": "python",
   "pygments_lexer": "ipython3",
   "version": "3.6.13"
  }
 },
 "nbformat": 4,
 "nbformat_minor": 5
}
